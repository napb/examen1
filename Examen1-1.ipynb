{
 "cells": [
  {
   "cell_type": "code",
   "execution_count": 1,
   "id": "55958e9a",
   "metadata": {},
   "outputs": [],
   "source": [
    "#Imports\n",
    "import pandas as pd\n",
    "import numpy as np\n",
    "import os\n",
    "import glob\n",
    "import subprocess"
   ]
  },
  {
   "cell_type": "code",
   "execution_count": 2,
   "id": "65a625e3",
   "metadata": {},
   "outputs": [],
   "source": [
    "def y(df):\n",
    "\n",
    "    return df[\n",
    "        (df['DIA_NAC'] > 0) & (df['DIA_NAC'] <= 31) &\n",
    "        (df['PESO'] > 0) & (df['PESO'] < 9999) & \n",
    "        (df['TALLA'] > 0) & (df['TALLA'] < 99) & \n",
    "        (df['EDAD_P'] > 0) & (df['EDAD_P'] < 99) &\n",
    "        (df['EDAD_M'] > 0) & (df['EDAD_M'] < 99)\n",
    "    ]"
   ]
  },
  {
   "cell_type": "code",
   "execution_count": 3,
   "id": "372a06c9",
   "metadata": {},
   "outputs": [],
   "source": [
    "#1.a.I\n",
    "def loadDataFramesFromCSV(folder, indexKey) :\n",
    "        \n",
    "    files = [os.path.basename(x) for x in glob.glob(folder)]\n",
    "    \n",
    "    mapData = []\n",
    "\n",
    "    for fileName in files:\n",
    "        mapData.append(pd.read_csv(folder[0: -5] + fileName, sep=';', index_col=None, header=0, error_bad_lines=False))\n",
    "       \n",
    "    return pd.concat(mapData)"
   ]
  },
  {
   "cell_type": "code",
   "execution_count": 4,
   "id": "e683c164",
   "metadata": {},
   "outputs": [],
   "source": [
    "#1.a.II\n",
    "def mdb(folder):\n",
    "    \n",
    "    files = [os.path.basename(x) for x in glob.glob(folder)]\n",
    "    \n",
    "    mapData = []\n",
    "\n",
    "    for fileName in files:\n",
    "        tables = subprocess.check_output([\"mdb-tables\", os.getcwd() + \"/datasets/nacimientos/\" + fileName]).decode().split()\n",
    "        \n",
    "        for table in tables:\n",
    "            d = subprocess.check_output([\"mdb-export\", os.getcwd() + \"/datasets/nacimientos/\" + fileName, table]).decode().split('\\n')\n",
    "            columns = d[0].split(',')\n",
    "            data = [i.split(',') for i in d[1:]]\n",
    "            mapData.append(pd.DataFrame(columns=columns, data=data))\n",
    "            \n",
    "    return pd.concat(mapData)"
   ]
  },
  {
   "cell_type": "code",
   "execution_count": 5,
   "id": "3dec0f0a",
   "metadata": {},
   "outputs": [
    {
     "name": "stderr",
     "output_type": "stream",
     "text": [
      "/opt/anaconda3/lib/python3.8/site-packages/IPython/core/interactiveshell.py:3357: DtypeWarning: Columns (21) have mixed types.Specify dtype option on import or set low_memory=False.\n",
      "  if (await self.run_code(code, result,  async_=asy)):\n"
     ]
    }
   ],
   "source": [
    "df1 = loadDataFramesFromCSV(os.getcwd() + \"/datasets/nacimientos/*.csv\", 4)\n",
    "df2 = mdb(os.getcwd() + \"/datasets/nacimientos/*.mdb\").reset_index(drop = True)"
   ]
  },
  {
   "cell_type": "code",
   "execution_count": 6,
   "id": "0810a8d1",
   "metadata": {},
   "outputs": [],
   "source": [
    "df2 = df2[\n",
    "    (df2['PESO'].notnull()) &\n",
    "    (df2['TALLA'].notnull())\n",
    "]\n",
    "\n",
    "df2['DIA_NAC'] = df2['DIA_NAC'].apply(lambda v: int(v))\n",
    "df2['PESO'] = df2['PESO'].apply(lambda v: int(v))\n",
    "df2['TALLA'] = df2['TALLA'].apply(lambda v: int(v))\n",
    "df2['EDAD_P'] = df2['EDAD_P'].apply(lambda v: int(v))\n",
    "df2['EDAD_M'] = df2['EDAD_M'].apply(lambda v: int(v))"
   ]
  },
  {
   "cell_type": "code",
   "execution_count": 7,
   "id": "79595e04",
   "metadata": {},
   "outputs": [],
   "source": [
    "dfs = []\n",
    "dfs.append(y(df1))\n",
    "dfs.append(y(df2))\n",
    "\n",
    "nacimientos = pd.concat(dfs)"
   ]
  },
  {
   "cell_type": "code",
   "execution_count": 8,
   "id": "44f0c9c2",
   "metadata": {},
   "outputs": [
    {
     "data": {
      "text/plain": [
       "0    1\n",
       "dtype: object"
      ]
     },
     "execution_count": 8,
     "metadata": {},
     "output_type": "execute_result"
    }
   ],
   "source": [
    "#1.b\n",
    "nacimientos['MES_NAC'].mode()\n",
    "#El mes de nacimiento mas comun, es el mes de Enero, dentro de todos los dataframes, asumiendo \n",
    "#los predicados propuestos en consulta general"
   ]
  },
  {
   "cell_type": "code",
   "execution_count": 9,
   "id": "e662be11",
   "metadata": {},
   "outputs": [
    {
     "data": {
      "text/plain": [
       "0    5\n",
       "dtype: int64"
      ]
     },
     "execution_count": 9,
     "metadata": {},
     "output_type": "execute_result"
    }
   ],
   "source": [
    "#1.c\n",
    "nacimientos['DIA_NAC'].mode()\n",
    "#El dia de nacimiento mas comun, es el dia 5, asumiendo los predicados propuestos en consulta general"
   ]
  },
  {
   "cell_type": "code",
   "execution_count": 10,
   "id": "70a347b1",
   "metadata": {},
   "outputs": [],
   "source": [
    "covar_general = nacimientos.cov()\n",
    "correl_general = nacimientos.corr()"
   ]
  },
  {
   "cell_type": "code",
   "execution_count": 11,
   "id": "581bec68",
   "metadata": {},
   "outputs": [
    {
     "data": {
      "text/plain": [
       "1124.4317461402002"
      ]
     },
     "execution_count": 11,
     "metadata": {},
     "output_type": "execute_result"
    }
   ],
   "source": [
    "#1.d.I\n",
    "covar_general['PESO']['TALLA']\n",
    "\n",
    "#La covarianza entre peso y talla de todo el dataframe es 1124.43, esto quiere decir que hay fuerte \n",
    "#relacion entre las dos variables"
   ]
  },
  {
   "cell_type": "code",
   "execution_count": 12,
   "id": "ab98920a",
   "metadata": {},
   "outputs": [
    {
     "data": {
      "text/plain": [
       "0.8093616617287183"
      ]
     },
     "execution_count": 12,
     "metadata": {},
     "output_type": "execute_result"
    }
   ],
   "source": [
    "#1.d.II\n",
    "correl_general['PESO']['TALLA']\n",
    "\n",
    "#Se observa que la correlacion entre las variables y entre todos los años de estudio, se mantiene \n",
    "#como asociacion alta, siendo esta de 0.8093"
   ]
  },
  {
   "cell_type": "code",
   "execution_count": 13,
   "id": "9735d6ca",
   "metadata": {},
   "outputs": [],
   "source": [
    "def covar(var1, var2) :\n",
    "\n",
    "    dataframe_groupped = nacimientos.groupby(by = ['ANO_NAC']).agg(\n",
    "        d_max=pd.NamedAgg(column=\"ANO_NAC\", aggfunc=\"max\")\n",
    "    )\n",
    "     \n",
    "    anios = dataframe_groupped.reset_index()['ANO_NAC']\n",
    "    \n",
    "    for anio in anios:\n",
    "        \n",
    "        covar_vars = nacimientos[\n",
    "            nacimientos['ANO_NAC'] == anio\n",
    "        ].cov()[var1][var2]\n",
    "        \n",
    "        print(\"año:\" , anio , \"covarianza\", var1, var2, covar_vars)"
   ]
  },
  {
   "cell_type": "code",
   "execution_count": 14,
   "id": "b654184a",
   "metadata": {},
   "outputs": [],
   "source": [
    "def correl(var1, var2) :\n",
    "\n",
    "    dataframe_groupped = nacimientos.groupby(by = ['ANO_NAC']).agg(\n",
    "        d_max=pd.NamedAgg(column=\"ANO_NAC\", aggfunc=\"max\")\n",
    "    )\n",
    "     \n",
    "    anios = dataframe_groupped.reset_index()['ANO_NAC']\n",
    "    \n",
    "    for anio in anios:\n",
    "        \n",
    "        correl_vars = nacimientos[\n",
    "            nacimientos['ANO_NAC'] == anio\n",
    "        ].corr()[var1][var2]\n",
    "        \n",
    "        print(\"año:\" , anio , \"correlacion\", var1, var2, correl_vars)"
   ]
  },
  {
   "cell_type": "code",
   "execution_count": 15,
   "id": "09e8ed47",
   "metadata": {},
   "outputs": [
    {
     "name": "stdout",
     "output_type": "stream",
     "text": [
      "año: 1996 covarianza PESO TALLA 1085.4653360823058\n",
      "año: 1997 covarianza PESO TALLA 1088.3400018104376\n",
      "año: 1998 covarianza PESO TALLA 1124.1344344440379\n",
      "año: 1999 covarianza PESO TALLA 1137.0183582782013\n",
      "año: 2000 covarianza PESO TALLA 1138.4201712119925\n",
      "año: 2001 covarianza PESO TALLA 1147.7090440657344\n",
      "año: 2002 covarianza PESO TALLA 1169.0082515832255\n",
      "año: 2003 covarianza PESO TALLA 1198.7999655229937\n",
      "año: 2004 covarianza PESO TALLA 1188.5271018882\n",
      "año: 2005 covarianza PESO TALLA 1160.3117396659222\n",
      "año: 2006 covarianza PESO TALLA 1201.6511336237372\n",
      "año: 2007 covarianza PESO TALLA 1175.6471654582335\n",
      "año: 2008 covarianza PESO TALLA 1120.9805930010439\n",
      "año: 2009 covarianza PESO TALLA 1073.41283596261\n",
      "año: 2012 covarianza PESO TALLA 1113.94884718905\n",
      "año: 2013 covarianza PESO TALLA 1122.3242014210202\n",
      "año: 2015 covarianza PESO TALLA 1222.3854692961659\n",
      "año: 2016 covarianza PESO TALLA 1206.5779894345908\n",
      "año: 2017 covarianza PESO TALLA 1206.4964545510777\n",
      "año: 1990 covarianza PESO TALLA 1033.96148317115\n",
      "año: 1991 covarianza PESO TALLA 1050.7683823027123\n",
      "año: 1992 covarianza PESO TALLA 1044.2891672070118\n",
      "año: 1993 covarianza PESO TALLA 1052.054902493022\n",
      "año: 1994 covarianza PESO TALLA 1071.098477263308\n",
      "año: 1995 covarianza PESO TALLA 1066.4809850907839\n"
     ]
    }
   ],
   "source": [
    "#1.d.III\n",
    "covar('PESO', 'TALLA')\n",
    "\n",
    "#Se observa que la covarianza, entre todos los años, se mantiene fuerte entre las variables peso-talla, \n",
    "#es decir la relacion entre estas variables es fuerte y se mantiene uniforme"
   ]
  },
  {
   "cell_type": "code",
   "execution_count": 16,
   "id": "76c7dba0",
   "metadata": {},
   "outputs": [
    {
     "name": "stdout",
     "output_type": "stream",
     "text": [
      "año: 1996 correlacion PESO TALLA 0.8069518187611212\n",
      "año: 1997 correlacion PESO TALLA 0.8089060125742329\n",
      "año: 1998 correlacion PESO TALLA 0.8182298157917199\n",
      "año: 1999 correlacion PESO TALLA 0.8177874503114567\n",
      "año: 2000 correlacion PESO TALLA 0.8139722864561552\n",
      "año: 2001 correlacion PESO TALLA 0.811966261784761\n",
      "año: 2002 correlacion PESO TALLA 0.8091638292938252\n",
      "año: 2003 correlacion PESO TALLA 0.8094935548666183\n",
      "año: 2004 correlacion PESO TALLA 0.806082773838522\n",
      "año: 2005 correlacion PESO TALLA 0.8048940634176609\n",
      "año: 2006 correlacion PESO TALLA 0.8096761210853728\n",
      "año: 2007 correlacion PESO TALLA 0.8067258011262431\n",
      "año: 2008 correlacion PESO TALLA 0.8219082360418786\n",
      "año: 2009 correlacion PESO TALLA 0.8240821791922216\n",
      "año: 2012 correlacion PESO TALLA 0.8417518005847248\n",
      "año: 2013 correlacion PESO TALLA 0.8404412586738272\n",
      "año: 2015 correlacion PESO TALLA 0.816631793824781\n",
      "año: 2016 correlacion PESO TALLA 0.7976631179418455\n",
      "año: 2017 correlacion PESO TALLA 0.8307449477043788\n",
      "año: 1990 correlacion PESO TALLA 0.8019083879924619\n",
      "año: 1991 correlacion PESO TALLA 0.8027530608911303\n",
      "año: 1992 correlacion PESO TALLA 0.7864929292648329\n",
      "año: 1993 correlacion PESO TALLA 0.7920855902815386\n",
      "año: 1994 correlacion PESO TALLA 0.7989091497300729\n",
      "año: 1995 correlacion PESO TALLA 0.8063329434484365\n"
     ]
    }
   ],
   "source": [
    "#1.d.IV\n",
    "correl('PESO', 'TALLA')\n",
    "\n",
    "#Se observa que la correlacion entre las variables y entre los años de estudio, se mantiene como asociacion alta"
   ]
  },
  {
   "cell_type": "code",
   "execution_count": null,
   "id": "5f0a3269",
   "metadata": {},
   "outputs": [],
   "source": []
  },
  {
   "cell_type": "code",
   "execution_count": 17,
   "id": "6701a7e5",
   "metadata": {},
   "outputs": [
    {
     "data": {
      "text/plain": [
       "35.33309108434882"
      ]
     },
     "execution_count": 17,
     "metadata": {},
     "output_type": "execute_result"
    }
   ],
   "source": [
    "#1.e.I\n",
    "covar_general['EDAD_P']['EDAD_M']\n",
    "\n",
    "#La covarianza entre la edad del padre y edad de la madre de todo el dataframe es 35.3330, esto quiere \n",
    "#decir que hay fuerte relacion entre las dos variables de estudio"
   ]
  },
  {
   "cell_type": "code",
   "execution_count": 18,
   "id": "c271d09a",
   "metadata": {},
   "outputs": [
    {
     "data": {
      "text/plain": [
       "0.7249310826451041"
      ]
     },
     "execution_count": 18,
     "metadata": {},
     "output_type": "execute_result"
    }
   ],
   "source": [
    "#1.e.II\n",
    "correl_general['EDAD_P']['EDAD_M']\n",
    "\n",
    "#Se observa que la correlacion entre las variables y entre todos los años de estudio, se mantiene \n",
    "#como asociacion alta, siendo esta de 0.7249"
   ]
  },
  {
   "cell_type": "code",
   "execution_count": 19,
   "id": "8f7feaa7",
   "metadata": {},
   "outputs": [
    {
     "name": "stdout",
     "output_type": "stream",
     "text": [
      "año: 1996 covarianza EDAD_P EDAD_M 33.15393468330035\n",
      "año: 1997 covarianza EDAD_P EDAD_M 33.896385331567615\n",
      "año: 1998 covarianza EDAD_P EDAD_M 34.678934435019116\n",
      "año: 1999 covarianza EDAD_P EDAD_M 35.21948537746607\n",
      "año: 2000 covarianza EDAD_P EDAD_M 36.028545323498555\n",
      "año: 2001 covarianza EDAD_P EDAD_M 37.01806604993651\n",
      "año: 2002 covarianza EDAD_P EDAD_M 37.3353295798695\n",
      "año: 2003 covarianza EDAD_P EDAD_M 37.29463115107567\n",
      "año: 2004 covarianza EDAD_P EDAD_M 36.766141555508945\n",
      "año: 2005 covarianza EDAD_P EDAD_M 38.777586017939015\n",
      "año: 2006 covarianza EDAD_P EDAD_M 39.14051584360459\n",
      "año: 2007 covarianza EDAD_P EDAD_M 38.95771626706872\n",
      "año: 2008 covarianza EDAD_P EDAD_M 39.36094388341994\n",
      "año: 2009 covarianza EDAD_P EDAD_M 39.487466976679976\n",
      "año: 2012 covarianza EDAD_P EDAD_M 39.52664728517216\n",
      "año: 2013 covarianza EDAD_P EDAD_M 38.78129406704529\n",
      "año: 2015 covarianza EDAD_P EDAD_M 36.61025838603627\n",
      "año: 2016 covarianza EDAD_P EDAD_M 35.280384108889166\n",
      "año: 2017 covarianza EDAD_P EDAD_M 33.92452997190398\n",
      "año: 1990 covarianza EDAD_P EDAD_M 28.357637496489776\n",
      "año: 1991 covarianza EDAD_P EDAD_M 29.052385410347686\n",
      "año: 1992 covarianza EDAD_P EDAD_M 29.676777616818075\n",
      "año: 1993 covarianza EDAD_P EDAD_M 30.446493793621322\n",
      "año: 1994 covarianza EDAD_P EDAD_M 31.13735993132536\n",
      "año: 1995 covarianza EDAD_P EDAD_M 32.2967103675823\n"
     ]
    }
   ],
   "source": [
    "#1.e.III\n",
    "covar('EDAD_P', 'EDAD_M')\n",
    "\n",
    "#Se observa que la covarianza, entre todos los años, se mantiene fuerte entre las variables \n",
    "#edad del padre y edad de la madre, es deci la relacion entre estas variables es fuerte"
   ]
  },
  {
   "cell_type": "code",
   "execution_count": 20,
   "id": "708b7d07",
   "metadata": {},
   "outputs": [
    {
     "name": "stdout",
     "output_type": "stream",
     "text": [
      "año: 1996 correlacion EDAD_P EDAD_M 0.7191033622249087\n",
      "año: 1997 correlacion EDAD_P EDAD_M 0.7247403683862226\n",
      "año: 1998 correlacion EDAD_P EDAD_M 0.7296278053762393\n",
      "año: 1999 correlacion EDAD_P EDAD_M 0.72940470423727\n",
      "año: 2000 correlacion EDAD_P EDAD_M 0.7333586527520604\n",
      "año: 2001 correlacion EDAD_P EDAD_M 0.737944562598619\n",
      "año: 2002 correlacion EDAD_P EDAD_M 0.7385779153676287\n",
      "año: 2003 correlacion EDAD_P EDAD_M 0.736209782351795\n",
      "año: 2004 correlacion EDAD_P EDAD_M 0.7159289710161831\n",
      "año: 2005 correlacion EDAD_P EDAD_M 0.7440481912650658\n",
      "año: 2006 correlacion EDAD_P EDAD_M 0.7307681055553491\n",
      "año: 2007 correlacion EDAD_P EDAD_M 0.7322004012098318\n",
      "año: 2008 correlacion EDAD_P EDAD_M 0.7366510318168198\n",
      "año: 2009 correlacion EDAD_P EDAD_M 0.7394125909248829\n",
      "año: 2012 correlacion EDAD_P EDAD_M 0.7480015240640328\n",
      "año: 2013 correlacion EDAD_P EDAD_M 0.7455483836770453\n",
      "año: 2015 correlacion EDAD_P EDAD_M 0.7375315938224521\n",
      "año: 2016 correlacion EDAD_P EDAD_M 0.7303860541985884\n",
      "año: 2017 correlacion EDAD_P EDAD_M 0.721348701280076\n",
      "año: 1990 correlacion EDAD_P EDAD_M 0.6787697240158115\n",
      "año: 1991 correlacion EDAD_P EDAD_M 0.6814610298202085\n",
      "año: 1992 correlacion EDAD_P EDAD_M 0.6854156872275973\n",
      "año: 1993 correlacion EDAD_P EDAD_M 0.694003003211153\n",
      "año: 1994 correlacion EDAD_P EDAD_M 0.7060281090190171\n",
      "año: 1995 correlacion EDAD_P EDAD_M 0.7139525746798356\n"
     ]
    }
   ],
   "source": [
    "#1.e.IV\n",
    "correl('EDAD_P', 'EDAD_M')\n",
    "\n",
    "#Se observa que la correlacion entre las variables de la edad del padre y de la madre, tienen alta relacion, \n",
    "#respecto a cada año de estudio."
   ]
  }
 ],
 "metadata": {
  "kernelspec": {
   "display_name": "Python 3",
   "language": "python",
   "name": "python3"
  },
  "language_info": {
   "codemirror_mode": {
    "name": "ipython",
    "version": 3
   },
   "file_extension": ".py",
   "mimetype": "text/x-python",
   "name": "python",
   "nbconvert_exporter": "python",
   "pygments_lexer": "ipython3",
   "version": "3.8.8"
  }
 },
 "nbformat": 4,
 "nbformat_minor": 5
}
