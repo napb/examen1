{
 "cells": [
  {
   "cell_type": "code",
   "execution_count": 3,
   "id": "9f47913f",
   "metadata": {},
   "outputs": [],
   "source": [
    "#Imports\n",
    "import os\n",
    "import pandas as pd\n",
    "import numpy as np\n",
    "from sklearn import linear_model\n",
    "import statsmodels.api as sm\n",
    "import datetime\n",
    "\n",
    "s = lambda qa: qa**2\n",
    "a = lambda qwerty: datetime.datetime.now().year - int(qwerty)"
   ]
  },
  {
   "cell_type": "code",
   "execution_count": 2,
   "id": "abb3b93b",
   "metadata": {},
   "outputs": [
    {
     "name": "stderr",
     "output_type": "stream",
     "text": [
      "/opt/anaconda3/lib/python3.8/site-packages/IPython/core/interactiveshell.py:3165: DtypeWarning: Columns (52,214,249,253,302,303,304,305,306,430,431,432,433,434,435,436,437,438,439,440,441,442,443,444,445,446,447,448,449,450,451,452,453,454,455,456,457,458,459,460,461,462,463,464,465,466,467,468,469,470,471,472,473,474,475,476,477,478,479,480,481,482,483,484,485,486,487,488,489,490,491,492,493,494,495,496,497,498,499,500,560,562,564,566,568,570,576) have mixed types.Specify dtype option on import or set low_memory=False.\n",
      "  has_raised = await self.run_ast_nodes(code_ast.body, cell_name,\n"
     ]
    }
   ],
   "source": [
    "casen = pd.read_csv(os.getcwd() + \"/datasets/casen/CASEN 2009 con ingresos orig y ajust.csv\", index_col=None, header=0, error_bad_lines=False)\n",
    "#casen.head()"
   ]
  },
  {
   "cell_type": "code",
   "execution_count": 21,
   "id": "bda3388b",
   "metadata": {},
   "outputs": [
    {
     "data": {
      "text/html": [
       "<table class=\"simpletable\">\n",
       "<caption>OLS Regression Results</caption>\n",
       "<tr>\n",
       "  <th>Dep. Variable:</th>         <td>YTOTAJ</td>      <th>  R-squared:         </th>  <td>   0.083</td>  \n",
       "</tr>\n",
       "<tr>\n",
       "  <th>Model:</th>                   <td>OLS</td>       <th>  Adj. R-squared:    </th>  <td>   0.083</td>  \n",
       "</tr>\n",
       "<tr>\n",
       "  <th>Method:</th>             <td>Least Squares</td>  <th>  F-statistic:       </th>  <td>   2670.</td>  \n",
       "</tr>\n",
       "<tr>\n",
       "  <th>Date:</th>             <td>Sun, 10 Oct 2021</td> <th>  Prob (F-statistic):</th>   <td>  0.00</td>   \n",
       "</tr>\n",
       "<tr>\n",
       "  <th>Time:</th>                 <td>00:27:15</td>     <th>  Log-Likelihood:    </th> <td>-1.2905e+06</td>\n",
       "</tr>\n",
       "<tr>\n",
       "  <th>No. Observations:</th>      <td> 88226</td>      <th>  AIC:               </th>  <td>2.581e+06</td> \n",
       "</tr>\n",
       "<tr>\n",
       "  <th>Df Residuals:</th>          <td> 88222</td>      <th>  BIC:               </th>  <td>2.581e+06</td> \n",
       "</tr>\n",
       "<tr>\n",
       "  <th>Df Model:</th>              <td>     3</td>      <th>                     </th>      <td> </td>     \n",
       "</tr>\n",
       "<tr>\n",
       "  <th>Covariance Type:</th>      <td>nonrobust</td>    <th>                     </th>      <td> </td>     \n",
       "</tr>\n",
       "</table>\n",
       "<table class=\"simpletable\">\n",
       "<tr>\n",
       "       <td></td>         <th>coef</th>     <th>std err</th>      <th>t</th>      <th>P>|t|</th>  <th>[0.025</th>    <th>0.975]</th>  \n",
       "</tr>\n",
       "<tr>\n",
       "  <th>const</th>      <td>-1.791e+05</td> <td> 6478.202</td> <td>  -27.641</td> <td> 0.000</td> <td>-1.92e+05</td> <td>-1.66e+05</td>\n",
       "</tr>\n",
       "<tr>\n",
       "  <th>ESC</th>        <td> 3.554e+04</td> <td>  460.864</td> <td>   77.116</td> <td> 0.000</td> <td> 3.46e+04</td> <td> 3.64e+04</td>\n",
       "</tr>\n",
       "<tr>\n",
       "  <th>EXPO20</th>     <td> 1.027e+04</td> <td>  183.406</td> <td>   55.998</td> <td> 0.000</td> <td> 9910.879</td> <td> 1.06e+04</td>\n",
       "</tr>\n",
       "<tr>\n",
       "  <th>EXPO20POW2</th> <td>    1.2908</td> <td>    0.023</td> <td>   56.010</td> <td> 0.000</td> <td>    1.246</td> <td>    1.336</td>\n",
       "</tr>\n",
       "</table>\n",
       "<table class=\"simpletable\">\n",
       "<tr>\n",
       "  <th>Omnibus:</th>       <td>156857.607</td> <th>  Durbin-Watson:     </th>   <td>   1.682</td>   \n",
       "</tr>\n",
       "<tr>\n",
       "  <th>Prob(Omnibus):</th>   <td> 0.000</td>   <th>  Jarque-Bera (JB):  </th> <td>349335937.905</td>\n",
       "</tr>\n",
       "<tr>\n",
       "  <th>Skew:</th>            <td>12.636</td>   <th>  Prob(JB):          </th>   <td>    0.00</td>   \n",
       "</tr>\n",
       "<tr>\n",
       "  <th>Kurtosis:</th>        <td>310.231</td>  <th>  Cond. No.          </th>   <td>3.22e+07</td>   \n",
       "</tr>\n",
       "</table><br/><br/>Notes:<br/>[1] Standard Errors assume that the covariance matrix of the errors is correctly specified.<br/>[2] The condition number is large, 3.22e+07. This might indicate that there are<br/>strong multicollinearity or other numerical problems."
      ],
      "text/plain": [
       "<class 'statsmodels.iolib.summary.Summary'>\n",
       "\"\"\"\n",
       "                            OLS Regression Results                            \n",
       "==============================================================================\n",
       "Dep. Variable:                 YTOTAJ   R-squared:                       0.083\n",
       "Model:                            OLS   Adj. R-squared:                  0.083\n",
       "Method:                 Least Squares   F-statistic:                     2670.\n",
       "Date:                Sun, 10 Oct 2021   Prob (F-statistic):               0.00\n",
       "Time:                        00:27:15   Log-Likelihood:            -1.2905e+06\n",
       "No. Observations:               88226   AIC:                         2.581e+06\n",
       "Df Residuals:                   88222   BIC:                         2.581e+06\n",
       "Df Model:                           3                                         \n",
       "Covariance Type:            nonrobust                                         \n",
       "==============================================================================\n",
       "                 coef    std err          t      P>|t|      [0.025      0.975]\n",
       "------------------------------------------------------------------------------\n",
       "const      -1.791e+05   6478.202    -27.641      0.000   -1.92e+05   -1.66e+05\n",
       "ESC         3.554e+04    460.864     77.116      0.000    3.46e+04    3.64e+04\n",
       "EXPO20      1.027e+04    183.406     55.998      0.000    9910.879    1.06e+04\n",
       "EXPO20POW2     1.2908      0.023     56.010      0.000       1.246       1.336\n",
       "==============================================================================\n",
       "Omnibus:                   156857.607   Durbin-Watson:                   1.682\n",
       "Prob(Omnibus):                  0.000   Jarque-Bera (JB):        349335937.905\n",
       "Skew:                          12.636   Prob(JB):                         0.00\n",
       "Kurtosis:                     310.231   Cond. No.                     3.22e+07\n",
       "==============================================================================\n",
       "\n",
       "Notes:\n",
       "[1] Standard Errors assume that the covariance matrix of the errors is correctly specified.\n",
       "[2] The condition number is large, 3.22e+07. This might indicate that there are\n",
       "strong multicollinearity or other numerical problems.\n",
       "\"\"\""
      ]
     },
     "execution_count": 21,
     "metadata": {},
     "output_type": "execute_result"
    }
   ],
   "source": [
    "casen = casen[\n",
    "    (casen['O20'].notnull()) &\n",
    "    (casen['ESC'].notnull()) & \n",
    "    (casen['O20'] != \" \") &\n",
    "    (casen['ESC'] != \" \") &\n",
    "    (casen['YTOTAJ'] != \" \")&\n",
    "    (casen['YTOTAJ'].notnull())&\n",
    "    (casen['YTOTAJ'] != \"\")\n",
    "]\n",
    "casen['ESC'] = casen['ESC'].apply(lambda f : int(f))\n",
    "casen['EXPO20'] = casen['O20'].apply(a)\n",
    "casen['YTOTAJ'] = casen['YTOTAJ'].apply(lambda d: float(d))\n",
    "casen['EXPO20POW2'] = casen['EXPO20'].apply(s)\n",
    "\n",
    "sm.OLS(casen['YTOTAJ'], sm.add_constant(casen.loc[:,['ESC', 'EXPO20', 'EXPO20POW2']])).fit().summary()\n",
    "\n",
    "#Se puede interpretar que en este modelo, se estan explicando "
   ]
  },
  {
   "cell_type": "code",
   "execution_count": 22,
   "id": "702ebb1c",
   "metadata": {},
   "outputs": [
    {
     "data": {
      "text/plain": [
       "3           26\n",
       "7           22\n",
       "9           23\n",
       "14          32\n",
       "15          16\n",
       "          ... \n",
       "246914   -7978\n",
       "246915      18\n",
       "246917   -7978\n",
       "246918   -7978\n",
       "246921      51\n",
       "Name: EXPO20, Length: 88226, dtype: int64"
      ]
     },
     "execution_count": 22,
     "metadata": {},
     "output_type": "execute_result"
    }
   ],
   "source": [
    "casen['EXPO20']"
   ]
  },
  {
   "cell_type": "code",
   "execution_count": null,
   "id": "2e474a57",
   "metadata": {},
   "outputs": [],
   "source": []
  }
 ],
 "metadata": {
  "kernelspec": {
   "display_name": "Python 3",
   "language": "python",
   "name": "python3"
  },
  "language_info": {
   "codemirror_mode": {
    "name": "ipython",
    "version": 3
   },
   "file_extension": ".py",
   "mimetype": "text/x-python",
   "name": "python",
   "nbconvert_exporter": "python",
   "pygments_lexer": "ipython3",
   "version": "3.8.8"
  }
 },
 "nbformat": 4,
 "nbformat_minor": 5
}
